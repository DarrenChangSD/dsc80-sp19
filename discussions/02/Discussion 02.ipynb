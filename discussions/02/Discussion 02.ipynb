{
 "cells": [
  {
   "cell_type": "markdown",
   "metadata": {},
   "source": [
    "# Discussion 2\n",
    "\n",
    "### Due Wednesday April 10, 11:59:59PM\n"
   ]
  },
  {
   "cell_type": "markdown",
   "metadata": {},
   "source": [
    "---\n",
    "\n",
    "## Lecture Review\n",
    "\n"
   ]
  },
  {
   "cell_type": "code",
   "execution_count": null,
   "metadata": {},
   "outputs": [],
   "source": [
    "%matplotlib inline\n",
    "import pandas as pd\n",
    "import numpy as np\n",
    "import os"
   ]
  },
  {
   "cell_type": "code",
   "execution_count": null,
   "metadata": {},
   "outputs": [],
   "source": [
    "# If you want to follow along to datascience portion\n",
    "# from datascience import *"
   ]
  },
  {
   "cell_type": "markdown",
   "metadata": {},
   "source": [
    "## Data Structures in Pandas\n",
    "\n",
    "In this section we will compare the data structures in the `datascience` module with `Pandas`. This class will not use the `datascience` module (it's too basic to handle real-world data), however it will help us better understand pandas.\n",
    "\n",
    "To follow along you can install the `datascience` module by:\n",
    "* opening a terminal and typing `pip install datascience`. \n",
    "* If you are using `datahub.ucsd.edu`, then you should install the package in your own home directory using the command `pip install --user datascience` (you do not have permission to write files where the python installation resides). You can open a terminal in `datahub` by selecting 'terminal' from the 'new' menu."
   ]
  },
  {
   "cell_type": "markdown",
   "metadata": {},
   "source": [
    "### `Tables` in `datascience` module\n",
    "\n",
    "In DSC 10 we spent a lot of time working with tables. Recall, a `Table` is a sequence of labeled columns of data. A `Table` can be constructed from scratch by extending an empty table with columns.\n",
    "\n"
   ]
  },
  {
   "cell_type": "code",
   "execution_count": null,
   "metadata": {},
   "outputs": [],
   "source": [
    "t = Table().with_columns([\n",
    "    'letter', ['a', 'b', 'c', 'z'], # column 1\n",
    "    'count',  [  9,   3,   3,   1], # column 2\n",
    "    'points', [  1,   2,   2,  10], # column 3\n",
    "    ])\n",
    "t"
   ]
  },
  {
   "cell_type": "markdown",
   "metadata": {},
   "source": [
    "From here we were able to access values, manipulate data, and visualize data -- all of which was fairly straightforward. To grab the column `letter` we had a few options at our disposal:"
   ]
  },
  {
   "cell_type": "code",
   "execution_count": null,
   "metadata": {},
   "outputs": [],
   "source": [
    "# using column(), which takes a column label or index, we get back an array\n",
    "t.column('letter')\n",
    "\n",
    "# bracket notation as a shorthand for this method\n",
    "t['letter']"
   ]
  },
  {
   "cell_type": "markdown",
   "metadata": {},
   "source": [
    "To access values by row, `row()` returns a row by index. Alternatively, `rows()` returns an list-like `Rows` object that contains tuple-like `Row` objects."
   ]
  },
  {
   "cell_type": "code",
   "execution_count": null,
   "metadata": {},
   "outputs": [],
   "source": [
    "# grabs the second row from our Table above\n",
    "second = t.rows[1]\n",
    "\n",
    "# from the second row, we want the first item in that row\n",
    "first_item = second[0]\n",
    "#first_item"
   ]
  },
  {
   "cell_type": "code",
   "execution_count": null,
   "metadata": {},
   "outputs": [],
   "source": []
  },
  {
   "cell_type": "markdown",
   "metadata": {},
   "source": [
    "In DSC 10, we manipulated tabular data using the following `Table` methods:\n",
    "\n",
    "* Adding a column: `with_column()`\n",
    "* Selecting columns: `select()`\n",
    "* Renaming columns: `relabeled()`\n",
    "* Selecting out rows by index: `take()` (and conditionally with `where()`)\n",
    "* Operate on table data: `sort()`, `group()`, and `pivot()`"
   ]
  },
  {
   "cell_type": "markdown",
   "metadata": {},
   "source": [
    "### `DataFrames` in `Pandas` module"
   ]
  },
  {
   "cell_type": "markdown",
   "metadata": {},
   "source": [
    "We can make the same dataframe in `pandas` using the class `pandas.DataFrame`. What will my `DataFrame` look like if I run `pandas.DataFrame` using the same code above?"
   ]
  },
  {
   "cell_type": "code",
   "execution_count": null,
   "metadata": {},
   "outputs": [],
   "source": [
    "# replace Table().with_columns() with pd.DataFrame()\n",
    "\n",
    "df1 = pd.DataFrame([\n",
    "    'letter', ['a', 'b', 'c', 'z'],\n",
    "    'count',  [  9,   3,   3,   1],\n",
    "    'points', [  1,   2,   2,  10],\n",
    "    ])\n",
    "#df1"
   ]
  },
  {
   "cell_type": "markdown",
   "metadata": {},
   "source": [
    "Given what is wrong with the dataframe above, what can we say about how `pandas` is interpreting each entry of the list passed into `pd.DataFrame`?"
   ]
  },
  {
   "cell_type": "markdown",
   "metadata": {},
   "source": [
    "This obviously does not look the same as the table we constructed using the `datascience` package. We can do a bit of manipulation to our code in order to get back the desired dataframe."
   ]
  },
  {
   "cell_type": "code",
   "execution_count": null,
   "metadata": {},
   "outputs": [],
   "source": [
    "dictionary = {'letter' : ['a', 'b', 'c', 'z'],  # column name : values\n",
    "              'count'  : [ 9,   3,   3,    1],  # column name : values\n",
    "              'points' : [ 1,   2,   2,   10]}  # column name : values\n",
    " \n",
    "df2 = pd.DataFrame(data=dictionary)\n",
    "#df2"
   ]
  },
  {
   "cell_type": "markdown",
   "metadata": {},
   "source": [
    "Sometimes be easier to construct the same dataframe row-by-row. For example, suppose we know that individual number one has the following attributes:\n",
    "\n",
    "* Favorite letter: 'a'\n",
    "* Number of games played: 9\n",
    "* Points accumulated: 1\n",
    "\n",
    "and we know the same attributes for individual two, three, and four. To go about constructing a dataframe in this way, we can use a list of numpy ndarrays where each entry corresponds to a row in the dataframe:"
   ]
  },
  {
   "cell_type": "code",
   "execution_count": null,
   "metadata": {},
   "outputs": [],
   "source": [
    "data = [\n",
    "    ['a', 9, 1], # row 1\n",
    "    ['b', 3, 2], # row 2\n",
    "    ['c', 3, 2], # row 3\n",
    "    ['z', 1, 10] # row 4\n",
    "]"
   ]
  },
  {
   "cell_type": "code",
   "execution_count": null,
   "metadata": {},
   "outputs": [],
   "source": [
    "df3 = pd.DataFrame(\n",
    "    data, # rows of dataframe\n",
    "    columns = ['letter', 'count', 'points'])                           # column names \n",
    "#df3"
   ]
  },
  {
   "cell_type": "markdown",
   "metadata": {},
   "source": [
    "### Summary: `DataFrame` Constructor\n",
    "\n",
    "* `pd.DataFrame` creates a dataframe from:\n",
    "    * A dictionary of columns (`df2` above)\n",
    "    * A list of rows (`df3` above)\n",
    "* Optional (default) arguments include:\n",
    "    * `index`: can be array-like if your dataframe requires something other than a range from 0 to n\n",
    "    * `columns`: labels may be provided for column names (similar to `'letter'`, `'count'`, and `'points'` above) \n",
    "    * `dtype`: `None` is the default, `pandas` will infer based on the content of your columns.\n",
    "* Accepts any 'array-like' container (`list`, `np.ndarray`, `pd.Series`)\n",
    "    * Note the difference here between `np.ndarray` and `np.array`!\n",
    "    * The former is an actual data type, while the latter is a function to make arrays from other data structures.\n",
    "* Create small DataFrames to debug and understand your code!\n",
    "* DataFrame column labels:\n",
    "    * Accessed using the `columns` attribute\n",
    "    * Columns default to column number (0-indexed)"
   ]
  },
  {
   "cell_type": "markdown",
   "metadata": {},
   "source": [
    "### Select an Index or Column From a Pandas DataFrame"
   ]
  },
  {
   "cell_type": "code",
   "execution_count": null,
   "metadata": {},
   "outputs": [],
   "source": [
    "# recall df2\n",
    "df2"
   ]
  },
  {
   "cell_type": "markdown",
   "metadata": {},
   "source": [
    "You want to access the value that is at index `0`, in column `count`. We saw in lecture a number of different ways to get our value `9` back."
   ]
  },
  {
   "cell_type": "code",
   "execution_count": null,
   "metadata": {},
   "outputs": [],
   "source": [
    "# Using `iloc[]`\n",
    "print(df2.iloc[0][1])\n",
    "\n",
    "# Using `loc[]`\n",
    "print(df2.loc[0]['count'])"
   ]
  },
  {
   "cell_type": "markdown",
   "metadata": {},
   "source": [
    "The most important ones to remember are, without a doubt, `.loc[]` and `.iloc[]`.\n",
    "\n",
    "#### `iloc`\n",
    "\n",
    "* The `iloc` indexer for `Pandas Dataframe` is used for integer-location based indexing / selection by position.\n",
    "\n",
    "* The `iloc` indexer syntax is `data.iloc[<row selection>`, `<column selection>]`. `iloc` in pandas is used to select rows and columns by number, in the order that they appear in the data frame. \n",
    "\n",
    "* You can imagine that each row has a row number from 0 to the total rows (`data.shape[0]`) and `iloc[]` allows selections based on these numbers. The same applies for columns (ranging from 0 to `data.shape[1]`)\n",
    "    * Note that `.iloc` returns a `Pandas Series` when **one** row is selected, and a `Pandas DataFrame` when **multiple rows** are selected, or if any column in full is selected. \n",
    "    * To counter this, pass a single-valued list if you require `DataFrame` output."
   ]
  },
  {
   "cell_type": "code",
   "execution_count": null,
   "metadata": {},
   "outputs": [],
   "source": [
    "print(type(df2.iloc[1]))        # result of type series becuase only one row selected\n",
    "\n",
    "print(type(df2.iloc[[1]]))      # result of type dataframe becuase list selection used\n",
    "\n",
    "print(type(df2.iloc[0:2]))      # result of type dataframe since only two ros are selected\n",
    "\n",
    "print(type(df2.iloc[0:2, 1]))   # result of type series becuase only one column is selected\n",
    "\n",
    "print(type(df2.iloc[0:2, [1]])) # result of type dataframe with only one column becuase list selection used\n",
    "\n",
    "print(type(df2.iloc[0:2, 0:2])) # result of type dataframe becuase multiple rows and columns selected"
   ]
  },
  {
   "cell_type": "markdown",
   "metadata": {},
   "source": [
    "####  `loc`\n",
    "\n",
    "The `Pandas` `loc` indexer can be used with DataFrames for two different use cases:\n",
    "\n",
    "* Selecting rows by label/index\n",
    "* Selecting rows with a boolean/conditional lookup\n",
    "\n",
    "The `loc` indexer is used with the same syntax as `iloc`: `data.loc[<row selection>, <column selection>]`."
   ]
  },
  {
   "cell_type": "code",
   "execution_count": null,
   "metadata": {},
   "outputs": [],
   "source": [
    "# label/index lookup\n",
    "df2.loc[0]           # select first row\n",
    "\n",
    "df2.loc[0][1]        # select element in count column from first row\n",
    "\n",
    "df2.loc[0]['count']  # same as previous, use lable instead of index\n",
    "\n",
    "#df2.loc['letter']   # label 'letter' is not in the index, error"
   ]
  },
  {
   "cell_type": "markdown",
   "metadata": {},
   "source": [
    "### Boolean conditional selection with `loc`\n",
    "\n",
    "Recall that arrays can be compared using comparison operators (`<`,`>`,`==`,...), producing boolean arrays. These boolean arrays can be used to select rows according to those comparison conditions."
   ]
  },
  {
   "cell_type": "code",
   "execution_count": null,
   "metadata": {},
   "outputs": [],
   "source": [
    "# boolean conditional lookup. What is the output of each of these (in plain english)?\n",
    "df2.loc[df2['letter'] == 'a']\n",
    "\n",
    "df2.loc[df2['count'] == 3, ['letter']]\n",
    "\n",
    "df2.loc[[True, False, False], [True, False, True]]"
   ]
  },
  {
   "attachments": {},
   "cell_type": "markdown",
   "metadata": {},
   "source": [
    "We can combine boolean expressions using the NOT,AND,OR,XOR operators, to create compound expressions for selecting rows of dataframes. In the table below are the operators that can be used to create boolean arrays:\n",
    "\n",
    "![](bool_arr.png)"
   ]
  },
  {
   "cell_type": "markdown",
   "metadata": {},
   "source": [
    "For example, if you want to select all rows where `count` is 3 or `score` is 7, but not BOTH:"
   ]
  },
  {
   "cell_type": "code",
   "execution_count": null,
   "metadata": {},
   "outputs": [],
   "source": [
    "count3 = df2['count'] == 3\n",
    "score7 = df2['score'] == 7\n",
    "bool_arr = count3 ^ score7\n",
    "df2.loc[bool_arr]"
   ]
  },
  {
   "cell_type": "markdown",
   "metadata": {},
   "source": [
    "## Modifying a Pandas `DataFrame`"
   ]
  },
  {
   "cell_type": "markdown",
   "metadata": {},
   "source": [
    "### Adding an Index, Row, or Column to a Pandas DataFrame\n",
    "\n",
    "#### Adding an Index to a Dataframe\n",
    "\n",
    "* When you create a DataFrame, you have the option to add input to the `index` argument to make sure that you have the index that you desire. \n",
    "* When you don’t specify this, your `DataFrame` will have, by default, a numerically valued index that starts with 0 and continues until the last row of your `DataFrame`.\n",
    "* However, even when your index is specified for you automatically, you still have the power to re-use one of your columns and make it your index. You can easily do this by calling `set_index()` on your DataFrame."
   ]
  },
  {
   "cell_type": "code",
   "execution_count": null,
   "metadata": {},
   "outputs": [],
   "source": [
    "# let's make the 'letter' column our index\n",
    "df2.set_index('letter')"
   ]
  },
  {
   "cell_type": "markdown",
   "metadata": {},
   "source": [
    "#### Resetting the Index of Your DataFrame\n",
    "\n",
    "* When your index doesn’t look entirely the way you want it to, you can opt to reset it. \n",
    "* You can easily do this with `.reset_index()`. \n",
    "* However, you should still watch out, as you can pass several arguments that can make or break the success of your reset."
   ]
  },
  {
   "cell_type": "code",
   "execution_count": null,
   "metadata": {},
   "outputs": [],
   "source": [
    "# Use `reset_index()` to reset the values. \n",
    "df2_reset = df2.reset_index(drop=False)\n",
    "\n",
    "# Print `df_reset`\n",
    "df2_reset"
   ]
  },
  {
   "cell_type": "markdown",
   "metadata": {},
   "source": [
    "#### Adding a Column to a DataFrame\n",
    "\n",
    "* If you want to append columns to your DataFrame, you could also follow the same approach as when you would add an index to your DataFrame: you use `.loc[]` or `.iloc[]`. \n",
    "* In this case, you add a Series to an existing DataFrame with the help of `.loc[]`:"
   ]
  },
  {
   "cell_type": "code",
   "execution_count": null,
   "metadata": {},
   "outputs": [],
   "source": [
    "df2.loc[:, 'score'] = pd.Series([5, 6, 7, 7], index=df2.index)\n",
    "df2"
   ]
  },
  {
   "cell_type": "code",
   "execution_count": null,
   "metadata": {},
   "outputs": [],
   "source": [
    "df2['score1'] = pd.Series([5, 6, 7, 7], index=df2.index)\n",
    "df2"
   ]
  },
  {
   "cell_type": "code",
   "execution_count": null,
   "metadata": {},
   "outputs": [],
   "source": [
    "# What about this?\n",
    "df2 = df2.set_index('letter')\n",
    "df2['score2'] = pd.Series([5, 6, 7, 7])\n",
    "df2"
   ]
  },
  {
   "cell_type": "markdown",
   "metadata": {},
   "source": [
    "#### Deleting a Column from Your DataFrame\n",
    "\n",
    "To get rid of (a selection of) columns from your DataFrame, you can use the drop() method:"
   ]
  },
  {
   "cell_type": "code",
   "execution_count": null,
   "metadata": {},
   "outputs": [],
   "source": [
    "df2.drop(['score2'], axis=1)"
   ]
  },
  {
   "cell_type": "code",
   "execution_count": null,
   "metadata": {},
   "outputs": [],
   "source": [
    "# note: pandas methods return copies!\n",
    "df2 = df2.drop(['score2'], axis=1)\n",
    "df2"
   ]
  },
  {
   "cell_type": "markdown",
   "metadata": {},
   "source": [
    "This is not so straightforward; There are some extra arguments that are passed to the drop() method!\n",
    "\n",
    "* The axis argument is either 0 when it indicates rows and 1 when it is used to drop columns.\n",
    "* While Pandas has an `inplace` keyword to delete the column without having to reassign the DataFrame, **you should never use it**. Pandas code should always be written to return copies; this keyword will be removed in the future."
   ]
  },
  {
   "cell_type": "markdown",
   "metadata": {},
   "source": [
    "#### Removing a Row from Your DataFrame\n",
    "\n",
    "You can remove rows most easily using the `loc` selector and creating appropriate conditions. There are also methods that drop rows based on common needs (`drop_duplicates`, `dropna`).\n",
    "\n",
    "Below are methods to drop the row corresponding to index `c`:"
   ]
  },
  {
   "cell_type": "code",
   "execution_count": null,
   "metadata": {},
   "outputs": [],
   "source": [
    "df2"
   ]
  },
  {
   "cell_type": "code",
   "execution_count": null,
   "metadata": {},
   "outputs": [],
   "source": [
    "# rarely used, by works\n",
    "df2.drop('c', axis=0)"
   ]
  },
  {
   "cell_type": "code",
   "execution_count": null,
   "metadata": {},
   "outputs": [],
   "source": [
    "# better: conditioning using boolean arrays\n",
    "# '~' means 'not'\n",
    "\n",
    "df2.loc[~(df2.index == 'c')]"
   ]
  },
  {
   "cell_type": "markdown",
   "metadata": {},
   "source": [
    "## Tutorial: DataFrame Manipulation in Pandas"
   ]
  },
  {
   "cell_type": "markdown",
   "metadata": {},
   "source": [
    "**Question 1**: Construct a DataFrame from a specified dictionary data which has the index `labels`. Once have done this in the notebook, put your work in the function `question01` in the `py` file."
   ]
  },
  {
   "cell_type": "code",
   "execution_count": null,
   "metadata": {},
   "outputs": [],
   "source": [
    "# sample Python dictionary data and list labels:\n",
    "\n",
    "exam_data = {'name': ['Anastasia', 'Dima', 'Katherine', 'James', 'Emily', 'Michael', 'Matthew', 'Laura', 'Kevin', 'Jonas'],\n",
    "             'score': [12.5, 9, 16.5, np.nan, 9, 20, 14.5, np.nan, 8, 19],\n",
    "             'attempts': [1, 3, 2, 3, 2, 3, 1, 1, 2, 1],\n",
    "             'qualify': ['yes', 'no', 'yes', 'no', 'no', 'yes', 'yes', 'no', 'no', 'yes']}\n",
    "labels = ['a', 'b', 'c', 'd', 'e', 'f', 'g', 'h', 'i', 'j']\n",
    "\n"
   ]
  },
  {
   "cell_type": "code",
   "execution_count": null,
   "metadata": {},
   "outputs": [],
   "source": [
    "# do your work here"
   ]
  },
  {
   "cell_type": "code",
   "execution_count": null,
   "metadata": {},
   "outputs": [],
   "source": []
  },
  {
   "cell_type": "markdown",
   "metadata": {},
   "source": [
    "**Question 2**: Find the positions of numbers that are multiples of 3 from `ser`. In the notebook, put these positions in a list entitled `multiples`. Once finished, put your work in `question02` of the `py` file."
   ]
  },
  {
   "cell_type": "code",
   "execution_count": null,
   "metadata": {},
   "outputs": [],
   "source": [
    "ser = pd.Series(np.random.randint(1, 10, 7))\n",
    "\n",
    "multiples = ..."
   ]
  },
  {
   "cell_type": "code",
   "execution_count": null,
   "metadata": {},
   "outputs": [],
   "source": []
  },
  {
   "cell_type": "markdown",
   "metadata": {},
   "source": [
    "### Questions on cars\n",
    "\n",
    "The following two questions relate to a dataset on Car models and their attributes. We will read the data using `pd.read_csv` and read in a *url*."
   ]
  },
  {
   "cell_type": "code",
   "execution_count": null,
   "metadata": {},
   "outputs": [],
   "source": [
    "url = 'https://raw.githubusercontent.com/selva86/datasets/master/Cars93_miss.csv'\n",
    "\n",
    "cars = pd.read_csv(url)\n",
    "cars.head()"
   ]
  },
  {
   "cell_type": "markdown",
   "metadata": {},
   "source": [
    "**Question 3**: Count the number of missing values in each column of `df`. Which column has the maximum number of missing values? Assign this value to `highest_missing` in the notebook, then put your work in `question03` of the `py` file.\n",
    "\n",
    "*Hint: use the method `df.isnull()`*"
   ]
  },
  {
   "cell_type": "code",
   "execution_count": null,
   "metadata": {},
   "outputs": [],
   "source": [
    "\n",
    "highest_missing = ..."
   ]
  },
  {
   "cell_type": "markdown",
   "metadata": {},
   "source": [
    "**Question 4**: Which manufacturer, model and type has the highest Price? What is the row and column number of the cell with the highest Price value? Assess your answer in the notebook and put your work in `question04` in the `py` file."
   ]
  },
  {
   "cell_type": "code",
   "execution_count": null,
   "metadata": {},
   "outputs": [],
   "source": []
  },
  {
   "cell_type": "code",
   "execution_count": null,
   "metadata": {},
   "outputs": [],
   "source": []
  }
 ],
 "metadata": {
  "kernelspec": {
   "display_name": "Python 3",
   "language": "python",
   "name": "python3"
  },
  "language_info": {
   "codemirror_mode": {
    "name": "ipython",
    "version": 3
   },
   "file_extension": ".py",
   "mimetype": "text/x-python",
   "name": "python",
   "nbconvert_exporter": "python",
   "pygments_lexer": "ipython3",
   "version": "3.7.1"
  }
 },
 "nbformat": 4,
 "nbformat_minor": 2
}
